{
  "nbformat": 4,
  "nbformat_minor": 0,
  "metadata": {
    "colab": {
      "provenance": [],
      "authorship_tag": "ABX9TyPMrSV8SSdsWjnyW4DzklHt",
      "include_colab_link": true
    },
    "kernelspec": {
      "name": "python3",
      "display_name": "Python 3"
    },
    "language_info": {
      "name": "python"
    }
  },
  "cells": [
    {
      "cell_type": "markdown",
      "metadata": {
        "id": "view-in-github",
        "colab_type": "text"
      },
      "source": [
        "<a href=\"https://colab.research.google.com/github/kohgeonbu/koh-git/blob/main/calculator.ipynb\" target=\"_parent\"><img src=\"https://colab.research.google.com/assets/colab-badge.svg\" alt=\"Open In Colab\"/></a>"
      ]
    },
    {
      "cell_type": "code",
      "execution_count": null,
      "metadata": {
        "colab": {
          "base_uri": "https://localhost:8080/"
        },
        "id": "wAtCxqSwHVu9",
        "outputId": "04c6dfd7-6235-417d-ff10-c3c3bb4ccd1d"
      },
      "outputs": [
        {
          "output_type": "stream",
          "name": "stdout",
          "text": [
            "=== 계산기 프로그램 ===\n",
            "\n",
            "메뉴:\n",
            "1. 덧셈\n",
            "2. 뺄셈\n",
            "3. 곱셈\n",
            "4. 나눗셈\n",
            "5. 종료\n"
          ]
        }
      ],
      "source": [
        "def add(a, b):\n",
        "    return a + b\n",
        "\n",
        "def subtract(a, b):\n",
        "    return a - b\n",
        "\n",
        "def multiply(a, b):\n",
        "    return a * b\n",
        "\n",
        "def divide(a, b):\n",
        "    if b == 0:\n",
        "        return \"오류: 0으로 나눌 수 없습니다.\"\n",
        "    return a / b\n",
        "\n",
        "def calculator():\n",
        "    print(\"=== 계산기 프로그램 ===\")\n",
        "\n",
        "    while True:\n",
        "        print(\"\\n메뉴:\")\n",
        "        print(\"1. 덧셈\")\n",
        "        print(\"2. 뺄셈\")\n",
        "        print(\"3. 곱셈\")\n",
        "        print(\"4. 나눗셈\")\n",
        "        print(\"5. 종료\")\n",
        "\n",
        "        choice = input(\"원하는 작업을 선택하세요 (1/2/3/4/5): \")\n",
        "\n",
        "        if choice == '5':\n",
        "            print(\"계산기를 종료합니다.\")\n",
        "            break\n",
        "\n",
        "        if choice in ['1', '2', '3', '4']:\n",
        "            try:\n",
        "                num1 = float(input(\"첫 번째 숫자를 입력하세요: \"))\n",
        "                num2 = float(input(\"두 번째 숫자를 입력하세요: \"))\n",
        "            except ValueError:\n",
        "                print(\"유효한 숫자를 입력하세요.\")\n",
        "                continue\n",
        "\n",
        "            if choice == '1':\n",
        "                print(f\"결과: {num1} + {num2} = {add(num1, num2)}\")\n",
        "            elif choice == '2':\n",
        "                print(f\"결과: {num1} - {num2} = {subtract(num1, num2)}\")\n",
        "            elif choice == '3':\n",
        "                print(f\"결과: {num1} * {num2} = {multiply(num1, num2)}\")\n",
        "            elif choice == '4':\n",
        "                print(f\"결과: {num1} / {num2} = {divide(num1, num2)}\")\n",
        "        else:\n",
        "            print(\"잘못된 입력입니다. 다시 선택하세요.\")\n",
        "\n",
        "if __name__ == \"__main__\":\n",
        "    calculator()"
      ]
    }
  ]
}