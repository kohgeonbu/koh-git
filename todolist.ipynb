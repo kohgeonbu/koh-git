{
  "nbformat": 4,
  "nbformat_minor": 0,
  "metadata": {
    "colab": {
      "provenance": [],
      "authorship_tag": "ABX9TyMAa/oFNT4KI/qhAenzbXf2",
      "include_colab_link": true
    },
    "kernelspec": {
      "name": "python3",
      "display_name": "Python 3"
    },
    "language_info": {
      "name": "python"
    }
  },
  "cells": [
    {
      "cell_type": "markdown",
      "metadata": {
        "id": "view-in-github",
        "colab_type": "text"
      },
      "source": [
        "<a href=\"https://colab.research.google.com/github/kohgeonbu/koh-git/blob/main/todolist.ipynb\" target=\"_parent\"><img src=\"https://colab.research.google.com/assets/colab-badge.svg\" alt=\"Open In Colab\"/></a>"
      ]
    },
    {
      "cell_type": "code",
      "execution_count": null,
      "metadata": {
        "colab": {
          "base_uri": "https://localhost:8080/"
        },
        "id": "D__oKYceGt30",
        "outputId": "04ef8bad-5c61-409e-c856-40b9ee84b46e"
      },
      "outputs": [
        {
          "output_type": "stream",
          "name": "stdout",
          "text": [
            "=== To-Do List Manager ===\n",
            "\n",
            "[1] 목록 보기 [2] 할 일 추가 [3] 할 일 삭제 [4] 종료\n",
            "선택하세요: 2\n",
            "추가할 할 일을 입력하세요: 운동하기\n",
            "'운동하기' 추가 완료!\n",
            "\n",
            "[1] 목록 보기 [2] 할 일 추가 [3] 할 일 삭제 [4] 종료\n"
          ]
        }
      ],
      "source": [
        "import os\n",
        "\n",
        "# To-Do 리스트 파일 경로\n",
        "FILE_PATH = \"todo_list.txt\"\n",
        "\n",
        "# 파일이 없으면 생성\n",
        "if not os.path.exists(FILE_PATH):\n",
        "    with open(FILE_PATH, \"w\") as file:\n",
        "        pass\n",
        "\n",
        "def load_tasks():\n",
        "    \"\"\"파일에서 할 일 목록을 읽어옵니다.\"\"\"\n",
        "    with open(FILE_PATH, \"r\") as file:\n",
        "        return [line.strip() for line in file.readlines()]\n",
        "\n",
        "def save_tasks(tasks):\n",
        "    \"\"\"할 일 목록을 파일에 저장합니다.\"\"\"\n",
        "    with open(FILE_PATH, \"w\") as file:\n",
        "        file.writelines(f\"{task}\\n\" for task in tasks)\n",
        "\n",
        "def display_tasks(tasks):\n",
        "    \"\"\"할 일 목록을 출력합니다.\"\"\"\n",
        "    print(\"\\n현재 To-Do List:\")\n",
        "    if not tasks:\n",
        "        print(\" - 할 일이 없습니다!\")\n",
        "    else:\n",
        "        for idx, task in enumerate(tasks, start=1):\n",
        "            print(f\" {idx}. {task}\")\n",
        "    print()\n",
        "\n",
        "def add_task(tasks):\n",
        "    \"\"\"할 일을 추가합니다.\"\"\"\n",
        "    task = input(\"추가할 할 일을 입력하세요: \").strip()\n",
        "    if task:\n",
        "        tasks.append(task)\n",
        "        print(f\"'{task}' 추가 완료!\")\n",
        "    else:\n",
        "        print(\"빈 할 일은 추가할 수 없습니다.\")\n",
        "    return tasks\n",
        "\n",
        "def remove_task(tasks):\n",
        "    \"\"\"할 일을 삭제합니다.\"\"\"\n",
        "    display_tasks(tasks)\n",
        "    try:\n",
        "        idx = int(input(\"삭제할 할 일 번호를 입력하세요: \"))\n",
        "        if 1 <= idx <= len(tasks):\n",
        "            removed = tasks.pop(idx - 1)\n",
        "            print(f\"'{removed}' 삭제 완료!\")\n",
        "        else:\n",
        "            print(\"잘못된 번호입니다.\")\n",
        "    except ValueError:\n",
        "        print(\"숫자를 입력해주세요.\")\n",
        "    return tasks\n",
        "\n",
        "def main():\n",
        "    \"\"\"To-Do List 관리 프로그램 메인 함수\"\"\"\n",
        "    print(\"=== To-Do List Manager ===\")\n",
        "    tasks = load_tasks()\n",
        "\n",
        "    while True:\n",
        "        print(\"\\n[1] 목록 보기 [2] 할 일 추가 [3] 할 일 삭제 [4] 종료\")\n",
        "        choice = input(\"선택하세요: \").strip()\n",
        "\n",
        "        if choice == \"1\":\n",
        "            display_tasks(tasks)\n",
        "        elif choice == \"2\":\n",
        "            tasks = add_task(tasks)\n",
        "            save_tasks(tasks)\n",
        "        elif choice == \"3\":\n",
        "            tasks = remove_task(tasks)\n",
        "            save_tasks(tasks)\n",
        "        elif choice == \"4\":\n",
        "            print(\"프로그램을 종료합니다.\")\n",
        "            break\n",
        "        else:\n",
        "            print(\"잘못된 입력입니다. 다시 선택해주세요.\")\n",
        "\n",
        "if __name__ == \"__main__\":\n",
        "    main()"
      ]
    }
  ]
}