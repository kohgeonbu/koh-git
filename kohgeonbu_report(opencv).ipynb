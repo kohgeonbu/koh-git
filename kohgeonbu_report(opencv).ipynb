{
  "nbformat": 4,
  "nbformat_minor": 0,
  "metadata": {
    "colab": {
      "provenance": [],
      "authorship_tag": "ABX9TyNvl3wLljWOIE1DMP3oMs+Q",
      "include_colab_link": true
    },
    "kernelspec": {
      "name": "python3",
      "display_name": "Python 3"
    },
    "language_info": {
      "name": "python"
    }
  },
  "cells": [
    {
      "cell_type": "markdown",
      "metadata": {
        "id": "view-in-github",
        "colab_type": "text"
      },
      "source": [
        "<a href=\"https://colab.research.google.com/github/kohgeonbu/koh-git/blob/main/kohgeonbu_report(opencv).ipynb\" target=\"_parent\"><img src=\"https://colab.research.google.com/assets/colab-badge.svg\" alt=\"Open In Colab\"/></a>"
      ]
    },
    {
      "cell_type": "code",
      "execution_count": 2,
      "metadata": {
        "colab": {
          "base_uri": "https://localhost:8080/"
        },
        "collapsed": true,
        "id": "fx0b1f2kidnn",
        "outputId": "6bfb858e-d1f1-4ec5-b6a8-c618da4c8be8"
      },
      "outputs": [
        {
          "output_type": "stream",
          "name": "stdout",
          "text": [
            "Collecting mediapipe\n",
            "  Downloading mediapipe-0.10.18-cp310-cp310-manylinux_2_17_x86_64.manylinux2014_x86_64.whl.metadata (9.7 kB)\n",
            "Requirement already satisfied: absl-py in /usr/local/lib/python3.10/dist-packages (from mediapipe) (1.4.0)\n",
            "Requirement already satisfied: attrs>=19.1.0 in /usr/local/lib/python3.10/dist-packages (from mediapipe) (24.2.0)\n",
            "Requirement already satisfied: flatbuffers>=2.0 in /usr/local/lib/python3.10/dist-packages (from mediapipe) (24.3.25)\n",
            "Requirement already satisfied: jax in /usr/local/lib/python3.10/dist-packages (from mediapipe) (0.4.33)\n",
            "Requirement already satisfied: jaxlib in /usr/local/lib/python3.10/dist-packages (from mediapipe) (0.4.33)\n",
            "Requirement already satisfied: matplotlib in /usr/local/lib/python3.10/dist-packages (from mediapipe) (3.8.0)\n",
            "Requirement already satisfied: numpy<2 in /usr/local/lib/python3.10/dist-packages (from mediapipe) (1.26.4)\n",
            "Requirement already satisfied: opencv-contrib-python in /usr/local/lib/python3.10/dist-packages (from mediapipe) (4.10.0.84)\n",
            "Requirement already satisfied: protobuf<5,>=4.25.3 in /usr/local/lib/python3.10/dist-packages (from mediapipe) (4.25.5)\n",
            "Collecting sounddevice>=0.4.4 (from mediapipe)\n",
            "  Downloading sounddevice-0.5.1-py3-none-any.whl.metadata (1.4 kB)\n",
            "Requirement already satisfied: sentencepiece in /usr/local/lib/python3.10/dist-packages (from mediapipe) (0.2.0)\n",
            "Requirement already satisfied: CFFI>=1.0 in /usr/local/lib/python3.10/dist-packages (from sounddevice>=0.4.4->mediapipe) (1.17.1)\n",
            "Requirement already satisfied: ml-dtypes>=0.2.0 in /usr/local/lib/python3.10/dist-packages (from jax->mediapipe) (0.4.1)\n",
            "Requirement already satisfied: opt-einsum in /usr/local/lib/python3.10/dist-packages (from jax->mediapipe) (3.4.0)\n",
            "Requirement already satisfied: scipy>=1.10 in /usr/local/lib/python3.10/dist-packages (from jax->mediapipe) (1.13.1)\n",
            "Requirement already satisfied: contourpy>=1.0.1 in /usr/local/lib/python3.10/dist-packages (from matplotlib->mediapipe) (1.3.1)\n",
            "Requirement already satisfied: cycler>=0.10 in /usr/local/lib/python3.10/dist-packages (from matplotlib->mediapipe) (0.12.1)\n",
            "Requirement already satisfied: fonttools>=4.22.0 in /usr/local/lib/python3.10/dist-packages (from matplotlib->mediapipe) (4.55.1)\n",
            "Requirement already satisfied: kiwisolver>=1.0.1 in /usr/local/lib/python3.10/dist-packages (from matplotlib->mediapipe) (1.4.7)\n",
            "Requirement already satisfied: packaging>=20.0 in /usr/local/lib/python3.10/dist-packages (from matplotlib->mediapipe) (24.2)\n",
            "Requirement already satisfied: pillow>=6.2.0 in /usr/local/lib/python3.10/dist-packages (from matplotlib->mediapipe) (11.0.0)\n",
            "Requirement already satisfied: pyparsing>=2.3.1 in /usr/local/lib/python3.10/dist-packages (from matplotlib->mediapipe) (3.2.0)\n",
            "Requirement already satisfied: python-dateutil>=2.7 in /usr/local/lib/python3.10/dist-packages (from matplotlib->mediapipe) (2.8.2)\n",
            "Requirement already satisfied: pycparser in /usr/local/lib/python3.10/dist-packages (from CFFI>=1.0->sounddevice>=0.4.4->mediapipe) (2.22)\n",
            "Requirement already satisfied: six>=1.5 in /usr/local/lib/python3.10/dist-packages (from python-dateutil>=2.7->matplotlib->mediapipe) (1.16.0)\n",
            "Downloading mediapipe-0.10.18-cp310-cp310-manylinux_2_17_x86_64.manylinux2014_x86_64.whl (36.1 MB)\n",
            "\u001b[2K   \u001b[90m━━━━━━━━━━━━━━━━━━━━━━━━━━━━━━━━━━━━━━━━\u001b[0m \u001b[32m36.1/36.1 MB\u001b[0m \u001b[31m43.5 MB/s\u001b[0m eta \u001b[36m0:00:00\u001b[0m\n",
            "\u001b[?25hDownloading sounddevice-0.5.1-py3-none-any.whl (32 kB)\n",
            "Installing collected packages: sounddevice, mediapipe\n",
            "Successfully installed mediapipe-0.10.18 sounddevice-0.5.1\n"
          ]
        }
      ],
      "source": [
        "!pip install mediapipe\n"
      ]
    },
    {
      "cell_type": "code",
      "source": [
        "!ffmpeg -i \"/content/drive/My Drive/smh.mp4\" -vcodec libx264 -acodec aac \"/content/drive/My Drive/smh_converted.mp4\"\n"
      ],
      "metadata": {
        "colab": {
          "base_uri": "https://localhost:8080/"
        },
        "collapsed": true,
        "id": "zBclbsifr_KW",
        "outputId": "6358038a-5e80-4442-e9c6-dd12acd6de3b"
      },
      "execution_count": 22,
      "outputs": [
        {
          "output_type": "stream",
          "name": "stdout",
          "text": [
            "ffmpeg version 4.4.2-0ubuntu0.22.04.1 Copyright (c) 2000-2021 the FFmpeg developers\n",
            "  built with gcc 11 (Ubuntu 11.2.0-19ubuntu1)\n",
            "  configuration: --prefix=/usr --extra-version=0ubuntu0.22.04.1 --toolchain=hardened --libdir=/usr/lib/x86_64-linux-gnu --incdir=/usr/include/x86_64-linux-gnu --arch=amd64 --enable-gpl --disable-stripping --enable-gnutls --enable-ladspa --enable-libaom --enable-libass --enable-libbluray --enable-libbs2b --enable-libcaca --enable-libcdio --enable-libcodec2 --enable-libdav1d --enable-libflite --enable-libfontconfig --enable-libfreetype --enable-libfribidi --enable-libgme --enable-libgsm --enable-libjack --enable-libmp3lame --enable-libmysofa --enable-libopenjpeg --enable-libopenmpt --enable-libopus --enable-libpulse --enable-librabbitmq --enable-librubberband --enable-libshine --enable-libsnappy --enable-libsoxr --enable-libspeex --enable-libsrt --enable-libssh --enable-libtheora --enable-libtwolame --enable-libvidstab --enable-libvorbis --enable-libvpx --enable-libwebp --enable-libx265 --enable-libxml2 --enable-libxvid --enable-libzimg --enable-libzmq --enable-libzvbi --enable-lv2 --enable-omx --enable-openal --enable-opencl --enable-opengl --enable-sdl2 --enable-pocketsphinx --enable-librsvg --enable-libmfx --enable-libdc1394 --enable-libdrm --enable-libiec61883 --enable-chromaprint --enable-frei0r --enable-libx264 --enable-shared\n",
            "  libavutil      56. 70.100 / 56. 70.100\n",
            "  libavcodec     58.134.100 / 58.134.100\n",
            "  libavformat    58. 76.100 / 58. 76.100\n",
            "  libavdevice    58. 13.100 / 58. 13.100\n",
            "  libavfilter     7.110.100 /  7.110.100\n",
            "  libswscale      5.  9.100 /  5.  9.100\n",
            "  libswresample   3.  9.100 /  3.  9.100\n",
            "  libpostproc    55.  9.100 / 55.  9.100\n",
            "Input #0, mov,mp4,m4a,3gp,3g2,mj2, from '/content/drive/My Drive/smh.mp4':\n",
            "  Metadata:\n",
            "    major_brand     : isom\n",
            "    minor_version   : 512\n",
            "    compatible_brands: isomiso2avc1mp41\n",
            "    encoder         : Lavf58.45.100\n",
            "  Duration: 00:00:13.76, start: 0.000000, bitrate: 2175 kb/s\n",
            "  Stream #0:0(und): Video: h264 (Baseline) (avc1 / 0x31637661), yuv420p(tv, bt709), 1280x720, 2075 kb/s, 29.98 fps, 29.97 tbr, 19200 tbn, 38400 tbc (default)\n",
            "    Metadata:\n",
            "      rotate          : 180\n",
            "      handler_name    : Core Media Video\n",
            "      vendor_id       : [0][0][0][0]\n",
            "    Side data:\n",
            "      displaymatrix: rotation of -180.00 degrees\n",
            "  Stream #0:1(und): Audio: aac (LC) (mp4a / 0x6134706D), 44100 Hz, stereo, fltp, 96 kb/s (default)\n",
            "    Metadata:\n",
            "      handler_name    : SoundHandler\n",
            "      vendor_id       : [0][0][0][0]\n",
            "Stream mapping:\n",
            "  Stream #0:0 -> #0:0 (h264 (native) -> h264 (libx264))\n",
            "  Stream #0:1 -> #0:1 (aac (native) -> aac (native))\n",
            "Press [q] to stop, [?] for help\n",
            "\u001b[1;36m[libx264 @ 0x5a21d9f210c0] \u001b[0musing cpu capabilities: MMX2 SSE2Fast SSSE3 SSE4.2 AVX FMA3 BMI2 AVX2\n",
            "\u001b[1;36m[libx264 @ 0x5a21d9f210c0] \u001b[0mprofile High, level 3.1, 4:2:0, 8-bit\n",
            "\u001b[1;36m[libx264 @ 0x5a21d9f210c0] \u001b[0m264 - core 163 r3060 5db6aa6 - H.264/MPEG-4 AVC codec - Copyleft 2003-2021 - http://www.videolan.org/x264.html - options: cabac=1 ref=3 deblock=1:0:0 analyse=0x3:0x113 me=hex subme=7 psy=1 psy_rd=1.00:0.00 mixed_ref=1 me_range=16 chroma_me=1 trellis=1 8x8dct=1 cqm=0 deadzone=21,11 fast_pskip=1 chroma_qp_offset=-2 threads=3 lookahead_threads=1 sliced_threads=0 nr=0 decimate=1 interlaced=0 bluray_compat=0 constrained_intra=0 bframes=3 b_pyramid=2 b_adapt=1 b_bias=0 direct=1 weightb=1 open_gop=0 weightp=2 keyint=250 keyint_min=25 scenecut=40 intra_refresh=0 rc_lookahead=40 rc=crf mbtree=1 crf=23.0 qcomp=0.60 qpmin=0 qpmax=69 qpstep=4 ip_ratio=1.40 aq=1:1.00\n",
            "Output #0, mp4, to '/content/drive/My Drive/smh_converted.mp4':\n",
            "  Metadata:\n",
            "    major_brand     : isom\n",
            "    minor_version   : 512\n",
            "    compatible_brands: isomiso2avc1mp41\n",
            "    encoder         : Lavf58.76.100\n",
            "  Stream #0:0(und): Video: h264 (avc1 / 0x31637661), yuv420p(tv, bt709, progressive), 1280x720, q=2-31, 29.97 fps, 30k tbn (default)\n",
            "    Metadata:\n",
            "      encoder         : Lavc58.134.100 libx264\n",
            "      handler_name    : Core Media Video\n",
            "      vendor_id       : [0][0][0][0]\n",
            "    Side data:\n",
            "      cpb: bitrate max/min/avg: 0/0/0 buffer size: 0 vbv_delay: N/A\n",
            "      displaymatrix: rotation of -0.00 degrees\n",
            "  Stream #0:1(und): Audio: aac (LC) (mp4a / 0x6134706D), 44100 Hz, stereo, fltp, 128 kb/s (default)\n",
            "    Metadata:\n",
            "      handler_name    : SoundHandler\n",
            "      vendor_id       : [0][0][0][0]\n",
            "      encoder         : Lavc58.134.100 aac\n",
            "frame=  412 fps= 26 q=-1.0 Lsize=    2517kB time=00:00:13.72 bitrate=1502.4kbits/s speed=0.882x    \n",
            "video:2280kB audio:221kB subtitle:0kB other streams:0kB global headers:0kB muxing overhead: 0.638437%\n",
            "\u001b[1;36m[libx264 @ 0x5a21d9f210c0] \u001b[0mframe I:2     Avg QP:18.86  size: 53788\n",
            "\u001b[1;36m[libx264 @ 0x5a21d9f210c0] \u001b[0mframe P:104   Avg QP:21.98  size: 14550\n",
            "\u001b[1;36m[libx264 @ 0x5a21d9f210c0] \u001b[0mframe B:306   Avg QP:27.30  size:  2330\n",
            "\u001b[1;36m[libx264 @ 0x5a21d9f210c0] \u001b[0mconsecutive B-frames:  0.7%  0.5%  0.7% 98.1%\n",
            "\u001b[1;36m[libx264 @ 0x5a21d9f210c0] \u001b[0mmb I  I16..4: 16.8% 56.2% 27.0%\n",
            "\u001b[1;36m[libx264 @ 0x5a21d9f210c0] \u001b[0mmb P  I16..4:  1.9%  4.1%  0.6%  P16..4: 41.3% 14.3%  6.5%  0.0%  0.0%    skip:31.3%\n",
            "\u001b[1;36m[libx264 @ 0x5a21d9f210c0] \u001b[0mmb B  I16..4:  0.0%  0.1%  0.0%  B16..8: 37.3%  2.5%  0.3%  direct: 0.5%  skip:59.2%  L0:49.6% L1:46.3% BI: 4.1%\n",
            "\u001b[1;36m[libx264 @ 0x5a21d9f210c0] \u001b[0m8x8 transform intra:60.7% inter:69.9%\n",
            "\u001b[1;36m[libx264 @ 0x5a21d9f210c0] \u001b[0mcoded y,uvDC,uvAC intra: 37.7% 53.1% 16.1% inter: 7.0% 7.5% 0.3%\n",
            "\u001b[1;36m[libx264 @ 0x5a21d9f210c0] \u001b[0mi16 v,h,dc,p: 27% 31% 14% 28%\n",
            "\u001b[1;36m[libx264 @ 0x5a21d9f210c0] \u001b[0mi8 v,h,dc,ddl,ddr,vr,hd,vl,hu: 26% 21% 33%  3%  3%  4%  3%  4%  3%\n",
            "\u001b[1;36m[libx264 @ 0x5a21d9f210c0] \u001b[0mi4 v,h,dc,ddl,ddr,vr,hd,vl,hu: 30% 37% 11%  3%  4%  5%  3%  4%  3%\n",
            "\u001b[1;36m[libx264 @ 0x5a21d9f210c0] \u001b[0mi8c dc,h,v,p: 47% 22% 25%  6%\n",
            "\u001b[1;36m[libx264 @ 0x5a21d9f210c0] \u001b[0mWeighted P-Frames: Y:0.0% UV:0.0%\n",
            "\u001b[1;36m[libx264 @ 0x5a21d9f210c0] \u001b[0mref P L0: 63.4% 10.4% 21.1%  5.0%\n",
            "\u001b[1;36m[libx264 @ 0x5a21d9f210c0] \u001b[0mref B L0: 91.4%  7.3%  1.2%\n",
            "\u001b[1;36m[libx264 @ 0x5a21d9f210c0] \u001b[0mref B L1: 95.9%  4.1%\n",
            "\u001b[1;36m[libx264 @ 0x5a21d9f210c0] \u001b[0mkb/s:1358.12\n",
            "\u001b[1;36m[aac @ 0x5a21d9f46980] \u001b[0mQavg: 2211.668\n"
          ]
        }
      ]
    },
    {
      "cell_type": "code",
      "source": [
        "cap = cv2.VideoCapture(\"/content/drive/My Drive/smh_converted.mp4\")\n",
        "\n",
        "if not cap.isOpened():\n",
        "    print(\"동영상을 열 수 없습니다.\")\n",
        "else:\n",
        "    fps = cap.get(cv2.CAP_PROP_FPS)\n",
        "    frame_count = int(cap.get(cv2.CAP_PROP_FRAME_COUNT))\n",
        "    print(f\"FPS: {fps}, 총 프레임 수: {frame_count}, 길이(초): {frame_count / fps if fps > 0 else '계산 불가'}\")\n",
        "cap.release()\n"
      ],
      "metadata": {
        "colab": {
          "base_uri": "https://localhost:8080/"
        },
        "id": "Xj3S9-4ps3AL",
        "outputId": "1f6fa851-6c12-40e9-cff8-097b77da7ff4"
      },
      "execution_count": 23,
      "outputs": [
        {
          "output_type": "stream",
          "name": "stdout",
          "text": [
            "FPS: 29.97002997002997, 총 프레임 수: 412, 길이(초): 13.747066666666667\n"
          ]
        }
      ]
    },
    {
      "cell_type": "code",
      "source": [
        "import cv2\n",
        "import mediapipe as mp\n",
        "from google.colab import drive\n",
        "import shutil\n",
        "import numpy as np\n",
        "\n",
        "# 1. 구글 드라이브 마운트\n",
        "drive.mount('/content/drive', force_remount=True)\n",
        "\n",
        "# 2. Mediapipe 설정\n",
        "mp_hands = mp.solutions.hands\n",
        "hands = mp_hands.Hands(\n",
        "    static_image_mode=False,\n",
        "    max_num_hands=2,\n",
        "    min_detection_confidence=0.8,  # 신뢰도 향상\n",
        "    min_tracking_confidence=0.9   # 추적 신뢰도 향상\n",
        ")\n",
        "mp_drawing = mp.solutions.drawing_utils\n",
        "\n",
        "# 안정화 변수 초기화\n",
        "prev_landmarks = None  # 이전 프레임의 랜드마크 저장\n",
        "recent_landmarks = []  # 최근 프레임의 랜드마크 누적\n",
        "alpha = 0.7  # 안정화 강도\n",
        "max_delta_threshold = 0.1  # 큰 변화 감지 임계값\n",
        "fallback_frames = 5  # 큰 변화 후 몇 프레임 동안 보완 적용\n",
        "fallback_counter = 0  # 대체 보완 프레임 카운터\n",
        "\n",
        "# 3. 입력 영상 불러오기\n",
        "input_video_path = '/content/drive/My Drive/smh_converted.mp4'\n",
        "cap = cv2.VideoCapture(input_video_path)\n",
        "\n",
        "# 원본 영상 정보\n",
        "frame_width = int(cap.get(cv2.CAP_PROP_FRAME_WIDTH))\n",
        "frame_height = int(cap.get(cv2.CAP_PROP_FRAME_HEIGHT))\n",
        "original_fps = int(cap.get(cv2.CAP_PROP_FPS))\n",
        "out = cv2.VideoWriter('processed_smh.mp4', cv2.VideoWriter_fourcc(*'mp4v'), original_fps, (frame_width, frame_height))\n",
        "\n",
        "# 5. 동영상 처리\n",
        "while cap.isOpened():\n",
        "    ret, frame = cap.read()\n",
        "    if not ret:\n",
        "        break\n",
        "\n",
        "    # (1) 좌우 반전\n",
        "    frame = cv2.flip(frame, 1)\n",
        "\n",
        "    # (2) RGB로 변환\n",
        "    rgb_frame = cv2.cvtColor(frame, cv2.COLOR_BGR2RGB)\n",
        "\n",
        "    # (3) 손 검출\n",
        "    results = hands.process(rgb_frame)\n",
        "\n",
        "    # (4) 손끝 랜드마크 안정화 및 표시\n",
        "    if results.multi_hand_landmarks:\n",
        "        for hand_landmarks in results.multi_hand_landmarks:\n",
        "            current_landmarks = np.array([[lm.x, lm.y, lm.z] for lm in hand_landmarks.landmark])\n",
        "            recent_landmarks.append(current_landmarks)\n",
        "\n",
        "            # 최근 5개 프레임 유지\n",
        "            if len(recent_landmarks) > 5:\n",
        "                recent_landmarks.pop(0)\n",
        "\n",
        "            # 큰 변화 감지 및 보완\n",
        "            if prev_landmarks is None:\n",
        "                # 첫 프레임 초기화\n",
        "                prev_landmarks = current_landmarks\n",
        "                stabilized_landmarks = current_landmarks  # 안정화 없이 현재 값 사용\n",
        "            else:\n",
        "                delta = np.linalg.norm(prev_landmarks - current_landmarks, axis=1)\n",
        "\n",
        "                if np.any(delta > max_delta_threshold):  # 큰 변화 감지\n",
        "                    print(\"큰 변화 감지, 보완 적용\")\n",
        "                    fallback_counter = fallback_frames  # 보완 카운터 초기화\n",
        "\n",
        "                if fallback_counter > 0:\n",
        "                    # 최근 5개 프레임 평균으로 대체\n",
        "                    stabilized_landmarks = np.mean(recent_landmarks, axis=0)\n",
        "                    fallback_counter -= 1  # 카운터 감소\n",
        "                else:\n",
        "                    # 가중 평균 안정화\n",
        "                    stabilized_landmarks = alpha * prev_landmarks + (1 - alpha) * current_landmarks\n",
        "\n",
        "            prev_landmarks = stabilized_landmarks  # 안정화된 값 업데이트\n",
        "\n",
        "            # 손가락 끝 랜드마크 정의 (엄지 제외)\n",
        "            fingertip_indices = [\n",
        "                mp_hands.HandLandmark.INDEX_FINGER_TIP,\n",
        "                mp_hands.HandLandmark.MIDDLE_FINGER_TIP,\n",
        "                mp_hands.HandLandmark.RING_FINGER_TIP,\n",
        "                mp_hands.HandLandmark.PINKY_TIP\n",
        "            ]\n",
        "\n",
        "            # 각 손가락 끝에 점 그리기\n",
        "            for fingertip in fingertip_indices:\n",
        "                point = stabilized_landmarks[fingertip.value]\n",
        "                x, y = int(point[0] * frame.shape[1]), int(point[1] * frame.shape[0])\n",
        "                cv2.circle(frame, (x, y), 8, (0, 0, 255), -1)\n",
        "\n",
        "    # (5) 처리된 프레임 저장\n",
        "    out.write(frame)\n",
        "\n",
        "# 6. 자원 해제\n",
        "cap.release()\n",
        "out.release()\n",
        "\n",
        "# 7. 결과를 구글 드라이브로 이동\n",
        "shutil.move('processed_smh.mp4', '/content/drive/My Drive/processed_smh.mp4')\n",
        "print(\"처리된 영상이 구글 드라이브에 저장되었습니다.\")\n"
      ],
      "metadata": {
        "colab": {
          "base_uri": "https://localhost:8080/"
        },
        "id": "OiX_wyogjKW0",
        "outputId": "911aab8a-095a-4ae1-ba31-2a98f83ee4d4"
      },
      "execution_count": 45,
      "outputs": [
        {
          "output_type": "stream",
          "name": "stdout",
          "text": [
            "Mounted at /content/drive\n",
            "큰 변화 감지, 보완 적용\n",
            "큰 변화 감지, 보완 적용\n",
            "큰 변화 감지, 보완 적용\n",
            "큰 변화 감지, 보완 적용\n",
            "큰 변화 감지, 보완 적용\n",
            "큰 변화 감지, 보완 적용\n",
            "큰 변화 감지, 보완 적용\n",
            "큰 변화 감지, 보완 적용\n",
            "큰 변화 감지, 보완 적용\n",
            "큰 변화 감지, 보완 적용\n",
            "큰 변화 감지, 보완 적용\n",
            "큰 변화 감지, 보완 적용\n",
            "큰 변화 감지, 보완 적용\n",
            "큰 변화 감지, 보완 적용\n",
            "큰 변화 감지, 보완 적용\n",
            "큰 변화 감지, 보완 적용\n",
            "큰 변화 감지, 보완 적용\n",
            "큰 변화 감지, 보완 적용\n",
            "큰 변화 감지, 보완 적용\n",
            "큰 변화 감지, 보완 적용\n",
            "큰 변화 감지, 보완 적용\n",
            "큰 변화 감지, 보완 적용\n",
            "큰 변화 감지, 보완 적용\n",
            "큰 변화 감지, 보완 적용\n",
            "큰 변화 감지, 보완 적용\n",
            "큰 변화 감지, 보완 적용\n",
            "큰 변화 감지, 보완 적용\n",
            "큰 변화 감지, 보완 적용\n",
            "큰 변화 감지, 보완 적용\n",
            "큰 변화 감지, 보완 적용\n",
            "큰 변화 감지, 보완 적용\n",
            "큰 변화 감지, 보완 적용\n",
            "큰 변화 감지, 보완 적용\n",
            "큰 변화 감지, 보완 적용\n",
            "큰 변화 감지, 보완 적용\n",
            "큰 변화 감지, 보완 적용\n",
            "큰 변화 감지, 보완 적용\n",
            "큰 변화 감지, 보완 적용\n",
            "큰 변화 감지, 보완 적용\n",
            "큰 변화 감지, 보완 적용\n",
            "큰 변화 감지, 보완 적용\n",
            "큰 변화 감지, 보완 적용\n",
            "큰 변화 감지, 보완 적용\n",
            "큰 변화 감지, 보완 적용\n",
            "큰 변화 감지, 보완 적용\n",
            "큰 변화 감지, 보완 적용\n",
            "큰 변화 감지, 보완 적용\n",
            "큰 변화 감지, 보완 적용\n",
            "큰 변화 감지, 보완 적용\n",
            "큰 변화 감지, 보완 적용\n",
            "큰 변화 감지, 보완 적용\n",
            "큰 변화 감지, 보완 적용\n",
            "큰 변화 감지, 보완 적용\n",
            "큰 변화 감지, 보완 적용\n",
            "큰 변화 감지, 보완 적용\n",
            "큰 변화 감지, 보완 적용\n",
            "큰 변화 감지, 보완 적용\n",
            "큰 변화 감지, 보완 적용\n",
            "처리된 영상이 구글 드라이브에 저장되었습니다.\n"
          ]
        }
      ]
    },
    {
      "cell_type": "code",
      "source": [
        "!git clone https://github.com/kohgeonbu/koh-git.git"
      ],
      "metadata": {
        "colab": {
          "base_uri": "https://localhost:8080/"
        },
        "id": "MJWUeQ0qUWcy",
        "outputId": "73c4d2e5-70c1-488a-fa88-70a3ca37cae8"
      },
      "execution_count": 46,
      "outputs": [
        {
          "output_type": "stream",
          "name": "stdout",
          "text": [
            "Cloning into 'koh-git'...\n",
            "remote: Enumerating objects: 17, done.\u001b[K\n",
            "remote: Counting objects: 100% (17/17), done.\u001b[K\n",
            "remote: Compressing objects: 100% (14/14), done.\u001b[K\n",
            "remote: Total 17 (delta 3), reused 5 (delta 0), pack-reused 0 (from 0)\u001b[K\n",
            "Receiving objects: 100% (17/17), 91.95 KiB | 879.00 KiB/s, done.\n",
            "Resolving deltas: 100% (3/3), done.\n"
          ]
        }
      ]
    },
    {
      "cell_type": "code",
      "source": [
        "!git add .\n",
        "!git commit -m \"kohgeonbu report(opencv)\"\n",
        "!git push origin main"
      ],
      "metadata": {
        "colab": {
          "base_uri": "https://localhost:8080/"
        },
        "id": "3TdXrwQwUnTY",
        "outputId": "12f7930f-65eb-47ab-be24-2cbfcdfbb3d1"
      },
      "execution_count": 47,
      "outputs": [
        {
          "output_type": "stream",
          "name": "stdout",
          "text": [
            "fatal: not a git repository (or any of the parent directories): .git\n",
            "fatal: not a git repository (or any of the parent directories): .git\n",
            "fatal: not a git repository (or any of the parent directories): .git\n"
          ]
        }
      ]
    }
  ]
}